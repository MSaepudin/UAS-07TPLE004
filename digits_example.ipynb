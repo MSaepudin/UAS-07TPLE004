{
 "cells": [
  {
   "cell_type": "code",
   "execution_count": 16,
   "metadata": {},
   "outputs": [],
   "source": [
    "import numpy as np\n",
    "import matplotlib.pyplot as plt\n",
    "%matplotlib inline \n",
    "import seaborn as sns"
   ]
  },
  {
   "cell_type": "code",
   "execution_count": 17,
   "metadata": {},
   "outputs": [],
   "source": [
    "from sklearn.datasets import load_digits\n",
    "from sklearn.model_selection import train_test_split\n",
    "from mpl_toolkits.mplot3d import Axes3D\n",
    "from sklearn.neural_network import MLPClassifier\n",
    "from sklearn.model_selection import train_test_split\n",
    "from sklearn.metrics import accuracy_score\n",
    "from sklearn.metrics import confusion_matrix\n",
    "from sklearn import datasets\n",
    "from mpl_toolkits.mplot3d import Axes3D\n",
    "from sklearn.decomposition import PCA"
   ]
  },
  {
   "cell_type": "code",
   "execution_count": 33,
   "metadata": {},
   "outputs": [],
   "source": [
    "digits = load_digits()\n",
    "iris = datasets.load_iris()"
   ]
  },
  {
   "cell_type": "code",
   "execution_count": 34,
   "metadata": {},
   "outputs": [
    {
     "data": {
      "text/plain": [
       "['sepal length (cm)',\n",
       " 'sepal width (cm)',\n",
       " 'petal length (cm)',\n",
       " 'petal width (cm)']"
      ]
     },
     "execution_count": 34,
     "metadata": {},
     "output_type": "execute_result"
    }
   ],
   "source": [
    "iris.feature_names"
   ]
  },
  {
   "cell_type": "code",
   "execution_count": 6,
   "metadata": {},
   "outputs": [
    {
     "data": {
      "text/plain": [
       "(1797, 64)"
      ]
     },
     "execution_count": 6,
     "metadata": {},
     "output_type": "execute_result"
    }
   ],
   "source": [
    "digits.data.shape"
   ]
  },
  {
   "cell_type": "code",
   "execution_count": 39,
   "metadata": {},
   "outputs": [
    {
     "data": {
      "text/plain": [
       "array([ 0.,  0.,  1.,  9., 15., 11.,  0.,  0.,  0.,  0., 11., 16.,  8.,\n",
       "       14.,  6.,  0.,  0.,  2., 16., 10.,  0.,  9.,  9.,  0.,  0.,  1.,\n",
       "       16.,  4.,  0.,  8.,  8.,  0.,  0.,  4., 16.,  4.,  0.,  8.,  8.,\n",
       "        0.,  0.,  1., 16.,  5.,  1., 11.,  3.,  0.,  0.,  0., 12., 12.,\n",
       "       10., 10.,  0.,  0.,  0.,  0.,  1., 10., 13.,  3.,  0.,  0.])"
      ]
     },
     "execution_count": 39,
     "metadata": {},
     "output_type": "execute_result"
    }
   ],
   "source": [
    "digits.data[10]"
   ]
  },
  {
   "cell_type": "code",
   "execution_count": 8,
   "metadata": {},
   "outputs": [
    {
     "data": {
      "text/plain": [
       "array([0, 1, 2, 3, 4, 5, 6, 7, 8, 9])"
      ]
     },
     "execution_count": 8,
     "metadata": {},
     "output_type": "execute_result"
    }
   ],
   "source": [
    "digits.target_names"
   ]
  },
  {
   "cell_type": "code",
   "execution_count": 9,
   "metadata": {},
   "outputs": [
    {
     "data": {
      "text/plain": [
       "(1797,)"
      ]
     },
     "execution_count": 9,
     "metadata": {},
     "output_type": "execute_result"
    }
   ],
   "source": [
    "digits.target.shape"
   ]
  },
  {
   "cell_type": "code",
   "execution_count": 40,
   "metadata": {},
   "outputs": [
    {
     "data": {
      "text/plain": [
       "0"
      ]
     },
     "execution_count": 40,
     "metadata": {},
     "output_type": "execute_result"
    }
   ],
   "source": [
    "digits.target[10]"
   ]
  },
  {
   "cell_type": "code",
   "execution_count": 11,
   "metadata": {},
   "outputs": [
    {
     "data": {
      "text/plain": [
       "<matplotlib.image.AxesImage at 0x1167bc70>"
      ]
     },
     "execution_count": 11,
     "metadata": {},
     "output_type": "execute_result"
    },
    {
     "data": {
      "text/plain": [
       "<Figure size 432x288 with 0 Axes>"
      ]
     },
     "metadata": {},
     "output_type": "display_data"
    },
    {
     "data": {
      "image/png": "[encoded data removed]",
      "text/plain": [
       "<Figure size 288x288 with 1 Axes>"
      ]
     },
     "metadata": {
      "needs_background": "light"
     },
     "output_type": "display_data"
    }
   ],
   "source": [
    "import matplotlib.pyplot as plt \n",
    "plt.gray() \n",
    "plt.matshow(digits.images[30]) "
   ]
  },
  {
   "cell_type": "code",
   "execution_count": 12,
   "metadata": {},
   "outputs": [],
   "source": [
    "X = digits.data\n",
    "y = digits.target\n",
    "# Membagi data training dan testing(80:20)\n",
    "x_train, x_test, y_train, y_test = train_test_split(X,y, test_size= 0.2, random_state=1)"
   ]
  },
  {
   "cell_type": "code",
   "execution_count": 35,
   "metadata": {},
   "outputs": [
    {
     "data": {
      "text/plain": [
       "(1437, 64)"
      ]
     },
     "execution_count": 35,
     "metadata": {},
     "output_type": "execute_result"
    }
   ],
   "source": [
    "x_train.shape"
   ]
  },
  {
   "cell_type": "code",
   "execution_count": 13,
   "metadata": {},
   "outputs": [
    {
     "data": {
      "text/plain": [
       "(360, 64)"
      ]
     },
     "execution_count": 13,
     "metadata": {},
     "output_type": "execute_result"
    }
   ],
   "source": [
    "x_test.shape"
   ]
  },
  {
   "cell_type": "code",
   "execution_count": 19,
   "metadata": {},
   "outputs": [
    {
     "data": {
      "text/plain": [
       "(1437,)"
      ]
     },
     "execution_count": 19,
     "metadata": {},
     "output_type": "execute_result"
    }
   ],
   "source": [
    "y_train.shape"
   ]
  },
  {
   "cell_type": "code",
   "execution_count": 21,
   "metadata": {},
   "outputs": [
    {
     "data": {
      "text/plain": [
       "(360,)"
      ]
     },
     "execution_count": 21,
     "metadata": {},
     "output_type": "execute_result"
    }
   ],
   "source": [
    "y_test.shape"
   ]
  },
  {
   "cell_type": "code",
   "execution_count": 41,
   "metadata": {},
   "outputs": [],
   "source": [
    "clf = MLPClassifier(hidden_layer_sizes=(20,20,20),  max_iter=200, alpha=0.0001,activation='logistic',\n",
    "                     solver='adam', verbose=10,  random_state=21,tol=0.000000001)"
   ]
  },
  {
   "cell_type": "code",
   "execution_count": 42,
   "metadata": {},
   "outputs": [
    {
     "name": "stdout",
     "output_type": "stream",
     "text": [
      "Iteration 1, loss = 2.36095312\n",
      "Iteration 2, loss = 2.33700545\n",
      "Iteration 3, loss = 2.31996006\n",
      "Iteration 4, loss = 2.30914937\n",
      "Iteration 5, loss = 2.30131993\n",
      "Iteration 6, loss = 2.29557455\n",
      "Iteration 7, loss = 2.29062186\n",
      "Iteration 8, loss = 2.28536830\n",
      "Iteration 9, loss = 2.28071885\n",
      "Iteration 10, loss = 2.27580319\n",
      "Iteration 11, loss = 2.27024449\n",
      "Iteration 12, loss = 2.26366668\n",
      "Iteration 13, loss = 2.25641755\n",
      "Iteration 14, loss = 2.24783765\n",
      "Iteration 15, loss = 2.23740987\n",
      "Iteration 16, loss = 2.22604297\n",
      "Iteration 17, loss = 2.21237257\n",
      "Iteration 18, loss = 2.19629183\n",
      "Iteration 19, loss = 2.17836594\n",
      "Iteration 20, loss = 2.15833909\n",
      "Iteration 21, loss = 2.13588108\n",
      "Iteration 22, loss = 2.11163462\n",
      "Iteration 23, loss = 2.08553109\n",
      "Iteration 24, loss = 2.05769042\n",
      "Iteration 25, loss = 2.02855045\n",
      "Iteration 26, loss = 1.99916993\n",
      "Iteration 27, loss = 1.96943820\n",
      "Iteration 28, loss = 1.93988251\n",
      "Iteration 29, loss = 1.91057044\n",
      "Iteration 30, loss = 1.88244245\n",
      "Iteration 31, loss = 1.85529383\n",
      "Iteration 32, loss = 1.82972465\n",
      "Iteration 33, loss = 1.80497066\n",
      "Iteration 34, loss = 1.78196962\n",
      "Iteration 35, loss = 1.75891818\n",
      "Iteration 36, loss = 1.73780763\n",
      "Iteration 37, loss = 1.71719048\n",
      "Iteration 38, loss = 1.69655315\n",
      "Iteration 39, loss = 1.67748837\n",
      "Iteration 40, loss = 1.65705251\n",
      "Iteration 41, loss = 1.63883494\n",
      "Iteration 42, loss = 1.61893045\n",
      "Iteration 43, loss = 1.59898523\n",
      "Iteration 44, loss = 1.57975426\n",
      "Iteration 45, loss = 1.55961566\n",
      "Iteration 46, loss = 1.54053258\n",
      "Iteration 47, loss = 1.52069804\n",
      "Iteration 48, loss = 1.50201361\n",
      "Iteration 49, loss = 1.48231701\n",
      "Iteration 50, loss = 1.46342293\n",
      "Iteration 51, loss = 1.44519902\n",
      "Iteration 52, loss = 1.42652459\n",
      "Iteration 53, loss = 1.40758657\n",
      "Iteration 54, loss = 1.38869825\n",
      "Iteration 55, loss = 1.37075568\n",
      "Iteration 56, loss = 1.35290662\n",
      "Iteration 57, loss = 1.33547470\n",
      "Iteration 58, loss = 1.31812785\n",
      "Iteration 59, loss = 1.30128370\n",
      "Iteration 60, loss = 1.28390989\n",
      "Iteration 61, loss = 1.26798926\n",
      "Iteration 62, loss = 1.25241077\n",
      "Iteration 63, loss = 1.23649510\n",
      "Iteration 64, loss = 1.22135682\n",
      "Iteration 65, loss = 1.20640067\n",
      "Iteration 66, loss = 1.19103699\n",
      "Iteration 67, loss = 1.17706704\n",
      "Iteration 68, loss = 1.16227956\n",
      "Iteration 69, loss = 1.14835553\n",
      "Iteration 70, loss = 1.13436520\n",
      "Iteration 71, loss = 1.12056048\n",
      "Iteration 72, loss = 1.10939699\n",
      "Iteration 73, loss = 1.09486555\n",
      "Iteration 74, loss = 1.08173605\n",
      "Iteration 75, loss = 1.06848198\n",
      "Iteration 76, loss = 1.05491748\n",
      "Iteration 77, loss = 1.04363016\n",
      "Iteration 78, loss = 1.03009301\n",
      "Iteration 79, loss = 1.01766876\n",
      "Iteration 80, loss = 1.00558187\n",
      "Iteration 81, loss = 0.99365535\n",
      "Iteration 82, loss = 0.98204847\n",
      "Iteration 83, loss = 0.97016184\n",
      "Iteration 84, loss = 0.95847476\n",
      "Iteration 85, loss = 0.94676415\n",
      "Iteration 86, loss = 0.93514719\n",
      "Iteration 87, loss = 0.92527693\n",
      "Iteration 88, loss = 0.91320898\n",
      "Iteration 89, loss = 0.90343044\n",
      "Iteration 90, loss = 0.89213929\n",
      "Iteration 91, loss = 0.88268097\n",
      "Iteration 92, loss = 0.87236292\n",
      "Iteration 93, loss = 0.86168993\n",
      "Iteration 94, loss = 0.85321845\n",
      "Iteration 95, loss = 0.84217607\n",
      "Iteration 96, loss = 0.83252028\n",
      "Iteration 97, loss = 0.82384920\n",
      "Iteration 98, loss = 0.81411054\n",
      "Iteration 99, loss = 0.80613598\n",
      "Iteration 100, loss = 0.79635944\n",
      "Iteration 101, loss = 0.78731181\n",
      "Iteration 102, loss = 0.77871420\n",
      "Iteration 103, loss = 0.77055962\n",
      "Iteration 104, loss = 0.76164609\n",
      "Iteration 105, loss = 0.75305917\n",
      "Iteration 106, loss = 0.74724869\n",
      "Iteration 107, loss = 0.73675258\n",
      "Iteration 108, loss = 0.72930905\n",
      "Iteration 109, loss = 0.72024493\n",
      "Iteration 110, loss = 0.71212462\n",
      "Iteration 111, loss = 0.70426829\n",
      "Iteration 112, loss = 0.69611539\n",
      "Iteration 113, loss = 0.68892550\n",
      "Iteration 114, loss = 0.68092296\n",
      "Iteration 115, loss = 0.67401029\n",
      "Iteration 116, loss = 0.67013432\n",
      "Iteration 117, loss = 0.66108208\n",
      "Iteration 118, loss = 0.65184019\n",
      "Iteration 119, loss = 0.64398835\n",
      "Iteration 120, loss = 0.63625347\n",
      "Iteration 121, loss = 0.62849888\n",
      "Iteration 122, loss = 0.62094398\n",
      "Iteration 123, loss = 0.61397005\n",
      "Iteration 124, loss = 0.60599203\n",
      "Iteration 125, loss = 0.60037296\n",
      "Iteration 126, loss = 0.59107942\n",
      "Iteration 127, loss = 0.58414146\n",
      "Iteration 128, loss = 0.57643479\n",
      "Iteration 129, loss = 0.56880988\n",
      "Iteration 130, loss = 0.56215730\n",
      "Iteration 131, loss = 0.55487384\n",
      "Iteration 132, loss = 0.54769289\n",
      "Iteration 133, loss = 0.54007658\n",
      "Iteration 134, loss = 0.53382153\n",
      "Iteration 135, loss = 0.52599751\n",
      "Iteration 136, loss = 0.51845178\n",
      "Iteration 137, loss = 0.51173469\n",
      "Iteration 138, loss = 0.50563467\n",
      "Iteration 139, loss = 0.49906892\n",
      "Iteration 140, loss = 0.49244514\n",
      "Iteration 141, loss = 0.48643723\n",
      "Iteration 142, loss = 0.47986789\n",
      "Iteration 143, loss = 0.47338330\n",
      "Iteration 144, loss = 0.46669827\n",
      "Iteration 145, loss = 0.46052808\n",
      "Iteration 146, loss = 0.45498749\n",
      "Iteration 147, loss = 0.44868843\n",
      "Iteration 148, loss = 0.44326926\n",
      "Iteration 149, loss = 0.43746937\n",
      "Iteration 150, loss = 0.43154553\n",
      "Iteration 151, loss = 0.42576514\n",
      "Iteration 152, loss = 0.42054660\n",
      "Iteration 153, loss = 0.41477756\n",
      "Iteration 154, loss = 0.40938353\n",
      "Iteration 155, loss = 0.40424577\n",
      "Iteration 156, loss = 0.39856419\n",
      "Iteration 157, loss = 0.39373898\n",
      "Iteration 158, loss = 0.38898750\n",
      "Iteration 159, loss = 0.38379145\n",
      "Iteration 160, loss = 0.37991527\n",
      "Iteration 161, loss = 0.37368312\n",
      "Iteration 162, loss = 0.36902694\n",
      "Iteration 163, loss = 0.36439568\n",
      "Iteration 164, loss = 0.35950979\n",
      "Iteration 165, loss = 0.35605303\n",
      "Iteration 166, loss = 0.35048446\n",
      "Iteration 167, loss = 0.34579391\n",
      "Iteration 168, loss = 0.34140501\n",
      "Iteration 169, loss = 0.33763170\n",
      "Iteration 170, loss = 0.33284134\n",
      "Iteration 171, loss = 0.32853383\n",
      "Iteration 172, loss = 0.32443192\n",
      "Iteration 173, loss = 0.32037695\n",
      "Iteration 174, loss = 0.31681670\n",
      "Iteration 175, loss = 0.31347003\n",
      "Iteration 176, loss = 0.30889777\n",
      "Iteration 177, loss = 0.30440623\n",
      "Iteration 178, loss = 0.30068123\n",
      "Iteration 179, loss = 0.29722938\n",
      "Iteration 180, loss = 0.29292796\n",
      "Iteration 181, loss = 0.28955930\n",
      "Iteration 182, loss = 0.28635617\n",
      "Iteration 183, loss = 0.28209644\n",
      "Iteration 184, loss = 0.27988992\n",
      "Iteration 185, loss = 0.27552246\n",
      "Iteration 186, loss = 0.27182738\n",
      "Iteration 187, loss = 0.26855957\n",
      "Iteration 188, loss = 0.26515824\n",
      "Iteration 189, loss = 0.26129876\n",
      "Iteration 190, loss = 0.25841276\n",
      "Iteration 191, loss = 0.25475343\n",
      "Iteration 192, loss = 0.25162007\n",
      "Iteration 193, loss = 0.24877092\n",
      "Iteration 194, loss = 0.24550400\n",
      "Iteration 195, loss = 0.24269906\n",
      "Iteration 196, loss = 0.23969080\n",
      "Iteration 197, loss = 0.23659976\n",
      "Iteration 198, loss = 0.23375833\n",
      "Iteration 199, loss = 0.23098639\n",
      "Iteration 200, loss = 0.22819415\n"
     ]
    },
    {
     "name": "stderr",
     "output_type": "stream",
     "text": [
      "c:\\users\\dapodik\\appdata\\local\\programs\\python\\python37-32\\lib\\site-packages\\sklearn\\neural_network\\multilayer_perceptron.py:562: ConvergenceWarning: Stochastic Optimizer: Maximum iterations (200) reached and the optimization hasn't converged yet.\n",
      "  % self.max_iter, ConvergenceWarning)\n"
     ]
    }
   ],
   "source": [
    "clf.fit(x_train, y_train)\n",
    "y_pred = clf.predict(x_test)"
   ]
  },
  {
   "cell_type": "code",
   "execution_count": 43,
   "metadata": {},
   "outputs": [],
   "source": [
    "loss_values = clf.loss_curve_"
   ]
  },
  {
   "cell_type": "code",
   "execution_count": 44,
   "metadata": {},
   "outputs": [
    {
     "data": {
      "text/plain": [
       "[<matplotlib.lines.Line2D at 0x1207f4d0>]"
      ]
     },
     "execution_count": 44,
     "metadata": {},
     "output_type": "execute_result"
    },
    {
     "data": {
      "image/png": "[encoded data removed]",
      "text/plain": [
       "<Figure size 432x288 with 1 Axes>"
      ]
     },
     "metadata": {
      "needs_background": "light"
     },
     "output_type": "display_data"
    }
   ],
   "source": [
    "plt.plot(loss_values)"
   ]
  },
  {
   "cell_type": "code",
   "execution_count": null,
   "metadata": {},
   "outputs": [],
   "source": []
  }
 ],
 "metadata": {
  "kernelspec": {
   "display_name": "Python 3",
   "language": "python",
   "name": "python3"
  },
  "language_info": {
   "codemirror_mode": {
    "name": "ipython",
    "version": 3
   },
   "file_extension": ".py",
   "mimetype": "text/x-python",
   "name": "python",
   "nbconvert_exporter": "python",
   "pygments_lexer": "ipython3",
   "version": "3.7.0"
  }
 },
 "nbformat": 4,
 "nbformat_minor": 2
}
